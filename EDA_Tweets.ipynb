{
 "cells": [
  {
   "cell_type": "markdown",
   "metadata": {},
   "source": [
    "# <center> Recuperação da informação na Web e em Redes Sociais - Projeto Final </center>\n",
    "\n",
    "<center>FALCÃO E O SOLDADO INVERNAL: Análise de sentimentos dos tweets coletados durante a estreia da série\n",
    "</center>\n",
    "\n",
    "Autor: Natália Antunes <br>\n"
   ]
  },
  {
   "cell_type": "markdown",
   "metadata": {},
   "source": [
    "OBJETIVOS:<br>\n",
    "Este notebook tem como objetivo realizar a análise exploratória dos dados e pré-processamento da base de dados."
   ]
  },
  {
   "cell_type": "code",
   "execution_count": 1,
   "metadata": {},
   "outputs": [],
   "source": [
    "## Carregando as bibliotecas/ pacotes necessários\n",
    "import numpy as np\n",
    "import pandas as pd\n",
    "import seaborn as sns \n",
    "import matplotlib\n",
    "import matplotlib.pyplot as plt\n",
    "import os\n",
    "import re"
   ]
  },
  {
   "cell_type": "code",
   "execution_count": 2,
   "metadata": {},
   "outputs": [],
   "source": [
    "## Carregando a base de dados\n",
    "base= pd.read_excel('tweets.xlsx', sheet_name='default_1')"
   ]
  },
  {
   "cell_type": "code",
   "execution_count": 3,
   "metadata": {},
   "outputs": [
    {
     "data": {
      "text/html": [
       "<div>\n",
       "<style scoped>\n",
       "    .dataframe tbody tr th:only-of-type {\n",
       "        vertical-align: middle;\n",
       "    }\n",
       "\n",
       "    .dataframe tbody tr th {\n",
       "        vertical-align: top;\n",
       "    }\n",
       "\n",
       "    .dataframe thead th {\n",
       "        text-align: right;\n",
       "    }\n",
       "</style>\n",
       "<table border=\"1\" class=\"dataframe\">\n",
       "  <thead>\n",
       "    <tr style=\"text-align: right;\">\n",
       "      <th></th>\n",
       "      <th>Grupo</th>\n",
       "      <th>turno_coleta</th>\n",
       "      <th>Tweet</th>\n",
       "      <th>Tweet ID</th>\n",
       "      <th>Time</th>\n",
       "      <th>Favorited</th>\n",
       "      <th>Retweeted</th>\n",
       "      <th>Is Favourited</th>\n",
       "      <th>Is Retweeted</th>\n",
       "      <th>Is Retweet</th>\n",
       "      <th>...</th>\n",
       "      <th>User - Description</th>\n",
       "      <th>User - URL</th>\n",
       "      <th>User - Creation time</th>\n",
       "      <th>User - Language</th>\n",
       "      <th>User - Location</th>\n",
       "      <th>User - Time Zone</th>\n",
       "      <th>User - Statuses</th>\n",
       "      <th>User - Followers</th>\n",
       "      <th>User - Friends</th>\n",
       "      <th>User - Favourites</th>\n",
       "    </tr>\n",
       "  </thead>\n",
       "  <tbody>\n",
       "    <tr>\n",
       "      <th>0</th>\n",
       "      <td>Coleta 1</td>\n",
       "      <td>Manhã</td>\n",
       "      <td>RT @cinepop: 'Falcão e o Soldado Invernal': Pr...</td>\n",
       "      <td>156696580</td>\n",
       "      <td>2021-03-19 07:58:33</td>\n",
       "      <td>0</td>\n",
       "      <td>4</td>\n",
       "      <td>False</td>\n",
       "      <td>False</td>\n",
       "      <td>True</td>\n",
       "      <td>...</td>\n",
       "      <td>such a mess | 97’s | 👨🏻‍🤝‍👨🏽</td>\n",
       "      <td>NaN</td>\n",
       "      <td>2013-02-21 19:54:22</td>\n",
       "      <td>NaN</td>\n",
       "      <td>Marataízes, Brasil</td>\n",
       "      <td>NaN</td>\n",
       "      <td>15627</td>\n",
       "      <td>938</td>\n",
       "      <td>906</td>\n",
       "      <td>21921</td>\n",
       "    </tr>\n",
       "    <tr>\n",
       "      <th>1</th>\n",
       "      <td>Coleta 1</td>\n",
       "      <td>Manhã</td>\n",
       "      <td>BOM DIA POIS HOJE TEM FALCÃO E O SOLDADO INVERNAL</td>\n",
       "      <td>781586436</td>\n",
       "      <td>2021-03-19 07:58:29</td>\n",
       "      <td>0</td>\n",
       "      <td>0</td>\n",
       "      <td>False</td>\n",
       "      <td>False</td>\n",
       "      <td>False</td>\n",
       "      <td>...</td>\n",
       "      <td>𝟸𝟷 - 𝚂ã𝚘 𝙿𝚊𝚞𝚕𝚘 - 🏳️‍🌈</td>\n",
       "      <td>NaN</td>\n",
       "      <td>2013-12-16 17:43:34</td>\n",
       "      <td>NaN</td>\n",
       "      <td>ig: vitoriadiorato</td>\n",
       "      <td>NaN</td>\n",
       "      <td>28424</td>\n",
       "      <td>588</td>\n",
       "      <td>293</td>\n",
       "      <td>9261</td>\n",
       "    </tr>\n",
       "    <tr>\n",
       "      <th>2</th>\n",
       "      <td>Coleta 1</td>\n",
       "      <td>Manhã</td>\n",
       "      <td>Toda sexta agora esse inferno hsuahajajs eu am...</td>\n",
       "      <td>-1353314303</td>\n",
       "      <td>2021-03-19 07:58:28</td>\n",
       "      <td>0</td>\n",
       "      <td>0</td>\n",
       "      <td>False</td>\n",
       "      <td>False</td>\n",
       "      <td>False</td>\n",
       "      <td>...</td>\n",
       "      <td>🏳️‍🌈 ele/dele</td>\n",
       "      <td>https://t.co/2JW8P51jfv</td>\n",
       "      <td>2010-09-18 20:08:34</td>\n",
       "      <td>NaN</td>\n",
       "      <td>BXD - RJ</td>\n",
       "      <td>NaN</td>\n",
       "      <td>13336</td>\n",
       "      <td>849</td>\n",
       "      <td>539</td>\n",
       "      <td>10519</td>\n",
       "    </tr>\n",
       "    <tr>\n",
       "      <th>3</th>\n",
       "      <td>Coleta 1</td>\n",
       "      <td>Manhã</td>\n",
       "      <td>Hoje é o dia que eu nem entro aqui no tt com m...</td>\n",
       "      <td>370614273</td>\n",
       "      <td>2021-03-19 07:58:25</td>\n",
       "      <td>0</td>\n",
       "      <td>0</td>\n",
       "      <td>False</td>\n",
       "      <td>False</td>\n",
       "      <td>False</td>\n",
       "      <td>...</td>\n",
       "      <td>@Corinthians ✊🏻🦅</td>\n",
       "      <td>https://t.co/GP3FWirS2W</td>\n",
       "      <td>2016-03-01 15:21:59</td>\n",
       "      <td>NaN</td>\n",
       "      <td>lado norte</td>\n",
       "      <td>NaN</td>\n",
       "      <td>7034</td>\n",
       "      <td>563</td>\n",
       "      <td>292</td>\n",
       "      <td>3822</td>\n",
       "    </tr>\n",
       "    <tr>\n",
       "      <th>4</th>\n",
       "      <td>Coleta 1</td>\n",
       "      <td>Manhã</td>\n",
       "      <td>RT @disneygobr: Wallpapers de Falcão e o Solda...</td>\n",
       "      <td>-1558773757</td>\n",
       "      <td>2021-03-19 07:58:25</td>\n",
       "      <td>0</td>\n",
       "      <td>3</td>\n",
       "      <td>False</td>\n",
       "      <td>False</td>\n",
       "      <td>True</td>\n",
       "      <td>...</td>\n",
       "      <td>NaN</td>\n",
       "      <td>NaN</td>\n",
       "      <td>2019-02-08 12:01:49</td>\n",
       "      <td>NaN</td>\n",
       "      <td>São Paulo, Brasil</td>\n",
       "      <td>NaN</td>\n",
       "      <td>10223</td>\n",
       "      <td>58</td>\n",
       "      <td>192</td>\n",
       "      <td>11457</td>\n",
       "    </tr>\n",
       "  </tbody>\n",
       "</table>\n",
       "<p>5 rows × 28 columns</p>\n",
       "</div>"
      ],
      "text/plain": [
       "      Grupo turno_coleta                                              Tweet  \\\n",
       "0  Coleta 1        Manhã  RT @cinepop: 'Falcão e o Soldado Invernal': Pr...   \n",
       "1  Coleta 1        Manhã  BOM DIA POIS HOJE TEM FALCÃO E O SOLDADO INVERNAL   \n",
       "2  Coleta 1        Manhã  Toda sexta agora esse inferno hsuahajajs eu am...   \n",
       "3  Coleta 1        Manhã  Hoje é o dia que eu nem entro aqui no tt com m...   \n",
       "4  Coleta 1        Manhã  RT @disneygobr: Wallpapers de Falcão e o Solda...   \n",
       "\n",
       "     Tweet ID                 Time  Favorited  Retweeted  Is Favourited  \\\n",
       "0   156696580  2021-03-19 07:58:33          0          4          False   \n",
       "1   781586436  2021-03-19 07:58:29          0          0          False   \n",
       "2 -1353314303  2021-03-19 07:58:28          0          0          False   \n",
       "3   370614273  2021-03-19 07:58:25          0          0          False   \n",
       "4 -1558773757  2021-03-19 07:58:25          0          3          False   \n",
       "\n",
       "   Is Retweeted  Is Retweet  ...            User - Description  \\\n",
       "0         False        True  ...  such a mess | 97’s | 👨🏻‍🤝‍👨🏽   \n",
       "1         False       False  ...         𝟸𝟷 - 𝚂ã𝚘 𝙿𝚊𝚞𝚕𝚘 - 🏳️‍🌈   \n",
       "2         False       False  ...                 🏳️‍🌈 ele/dele   \n",
       "3         False       False  ...              @Corinthians ✊🏻🦅   \n",
       "4         False        True  ...                           NaN   \n",
       "\n",
       "                User - URL  User - Creation time User - Language  \\\n",
       "0                      NaN   2013-02-21 19:54:22             NaN   \n",
       "1                      NaN   2013-12-16 17:43:34             NaN   \n",
       "2  https://t.co/2JW8P51jfv   2010-09-18 20:08:34             NaN   \n",
       "3  https://t.co/GP3FWirS2W   2016-03-01 15:21:59             NaN   \n",
       "4                      NaN   2019-02-08 12:01:49             NaN   \n",
       "\n",
       "      User - Location User - Time Zone User - Statuses  User - Followers  \\\n",
       "0  Marataízes, Brasil              NaN           15627               938   \n",
       "1  ig: vitoriadiorato              NaN           28424               588   \n",
       "2            BXD - RJ              NaN           13336               849   \n",
       "3          lado norte              NaN            7034               563   \n",
       "4   São Paulo, Brasil              NaN           10223                58   \n",
       "\n",
       "  User - Friends User - Favourites  \n",
       "0            906             21921  \n",
       "1            293              9261  \n",
       "2            539             10519  \n",
       "3            292              3822  \n",
       "4            192             11457  \n",
       "\n",
       "[5 rows x 28 columns]"
      ]
     },
     "execution_count": 3,
     "metadata": {},
     "output_type": "execute_result"
    }
   ],
   "source": [
    "base.head()"
   ]
  },
  {
   "cell_type": "code",
   "execution_count": 4,
   "metadata": {},
   "outputs": [
    {
     "name": "stdout",
     "output_type": "stream",
     "text": [
      "<class 'pandas.core.frame.DataFrame'>\n",
      "RangeIndex: 19500 entries, 0 to 19499\n",
      "Data columns (total 28 columns):\n",
      " #   Column                Non-Null Count  Dtype  \n",
      "---  ------                --------------  -----  \n",
      " 0   Grupo                 19500 non-null  object \n",
      " 1   turno_coleta          19500 non-null  object \n",
      " 2   Tweet                 19500 non-null  object \n",
      " 3   Tweet ID              19500 non-null  int64  \n",
      " 4   Time                  19500 non-null  object \n",
      " 5   Favorited             19500 non-null  int64  \n",
      " 6   Retweeted             19500 non-null  int64  \n",
      " 7   Is Favourited         19500 non-null  bool   \n",
      " 8   Is Retweeted          19500 non-null  bool   \n",
      " 9   Is Retweet            19500 non-null  bool   \n",
      " 10  Retweet from          12373 non-null  object \n",
      " 11  Latitude              0 non-null      float64\n",
      " 12  Longitude             0 non-null      float64\n",
      " 13  Country               160 non-null    object \n",
      " 14  User                  19500 non-null  object \n",
      " 15  User - Profile image  19422 non-null  object \n",
      " 16  User - Name           19500 non-null  object \n",
      " 17  User - ID             19500 non-null  int64  \n",
      " 18  User - Description    17801 non-null  object \n",
      " 19  User - URL            7173 non-null   object \n",
      " 20  User - Creation time  19500 non-null  object \n",
      " 21  User - Language       0 non-null      float64\n",
      " 22  User - Location       13648 non-null  object \n",
      " 23  User - Time Zone      0 non-null      float64\n",
      " 24  User - Statuses       19500 non-null  int64  \n",
      " 25  User - Followers      19500 non-null  int64  \n",
      " 26  User - Friends        19500 non-null  int64  \n",
      " 27  User - Favourites     19500 non-null  int64  \n",
      "dtypes: bool(3), float64(4), int64(8), object(13)\n",
      "memory usage: 3.8+ MB\n"
     ]
    }
   ],
   "source": [
    "base.info()"
   ]
  },
  {
   "cell_type": "code",
   "execution_count": 5,
   "metadata": {},
   "outputs": [
    {
     "data": {
      "image/png": "[encoded data removed]",
      "text/plain": [
       "<Figure size 720x432 with 1 Axes>"
      ]
     },
     "metadata": {
      "needs_background": "light"
     },
     "output_type": "display_data"
    },
    {
     "data": {
      "text/plain": [
       "Noite    7000\n",
       "Tarde    6500\n",
       "Manhã    6000\n",
       "dtype: int64"
      ]
     },
     "execution_count": 5,
     "metadata": {},
     "output_type": "execute_result"
    }
   ],
   "source": [
    "## A coleta dos tweets foi no dia 19/03/21 em três horários distintos\n",
    "## Coleta 1 - Tweets coletados pela manhã\n",
    "plt.figure(figsize = (10, 6))\n",
    "sns.countplot(x = 'turno_coleta' , data = base, palette=\"Blues\")\n",
    "plt.title('Distribuição Coleta Tweets',fontsize=18)\n",
    "plt.xlabel('Turno', fontsize=12)\n",
    "plt.ylabel('QTDE', fontsize=12)\n",
    "plt.show()\n",
    "\n",
    "## Quantidade de Tweets coletatos\n",
    "pd.value_counts(base['turno_coleta'].values.flatten())\n"
   ]
  },
  {
   "cell_type": "code",
   "execution_count": 6,
   "metadata": {},
   "outputs": [
    {
     "data": {
      "image/png": "[encoded data removed]",
      "text/plain": [
       "<Figure size 720x432 with 1 Axes>"
      ]
     },
     "metadata": {
      "needs_background": "light"
     },
     "output_type": "display_data"
    }
   ],
   "source": [
    "## A coleta dos tweets foi no dia 19/03/21 em três horários distintos\n",
    "## \"Is Retweet\" indica se o tweet foi retuitado (repostado) pelo usuário\n",
    "plt.figure(figsize = (10, 6))\n",
    "sns.countplot(x = 'turno_coleta' , data = base, hue='Is Retweet',palette=\"Blues\")\n",
    "plt.title('Coleta Tweets',fontsize=18)\n",
    "plt.xlabel('Turno Coleta Tweet', fontsize=12)\n",
    "plt.ylabel('QTDE', fontsize=12)\n",
    "plt.show()\n"
   ]
  },
  {
   "cell_type": "code",
   "execution_count": 7,
   "metadata": {},
   "outputs": [
    {
     "name": "stdout",
     "output_type": "stream",
     "text": [
      "Is Retweet    False   True    All\n",
      "turno_coleta                     \n",
      "Manhã          2780   3220   6000\n",
      "Noite          2447   4553   7000\n",
      "Tarde          1900   4600   6500\n",
      "All            7127  12373  19500\n"
     ]
    }
   ],
   "source": [
    "## Tabela Cruzada do Turno da coleta pela indicação se a postagem é um retweet\n",
    "data_crosstab = pd.crosstab(base['turno_coleta'],\n",
    "                            base['Is Retweet'], \n",
    "                               margins = True)\n",
    "print(data_crosstab)"
   ]
  },
  {
   "cell_type": "code",
   "execution_count": 8,
   "metadata": {},
   "outputs": [
    {
     "name": "stdout",
     "output_type": "stream",
     "text": [
      "Tweet mais retuitado: RT @DisneyPlusBR: Honre o legado do escudo. #FalcãoEOSoldadoInvernal, uma Série Original da Marvel Studios. Novos episódios toda sexta. Só no #DisneyPlus.\r\n",
      "Conta tweet original: @DisneyPlusBR\n"
     ]
    }
   ],
   "source": [
    "## Tweet mais Retuitado\n",
    "usr=base['Retweet from'].iloc[base['Retweeted'].idxmax()]\n",
    "tt=base['Tweet'].iloc[base['Retweeted'].idxmax()]\n",
    "\n",
    "texto = 'Tweet mais retuitado: '+ tt + os.linesep + 'Conta tweet original: '+ '@' +usr \n",
    "print(texto)"
   ]
  },
  {
   "cell_type": "code",
   "execution_count": 9,
   "metadata": {},
   "outputs": [
    {
     "data": {
      "text/plain": [
       "Grupo                                                            Coleta 3\n",
       "turno_coleta                                                        Noite\n",
       "Tweet                   RT @DisneyPlusBR: Honre o legado do escudo. #F...\n",
       "Tweet ID                                                        806817804\n",
       "Time                                                  2021-03-19 13:37:44\n",
       "Favorited                                                               0\n",
       "Retweeted                                                            1056\n",
       "Is Favourited                                                       False\n",
       "Is Retweeted                                                        False\n",
       "Is Retweet                                                           True\n",
       "Retweet from                                                 DisneyPlusBR\n",
       "Latitude                                                              NaN\n",
       "Longitude                                                             NaN\n",
       "Country                                                               NaN\n",
       "User                                                            An4Vi3ir4\n",
       "User - Profile image    org.knime.core.data.image.png.PNGImageContent@...\n",
       "User - Name                                                   A.nik.a ×͜×\n",
       "User - ID                                                      1100472320\n",
       "User - Description      DreAms unWind, LoVe's a sTate of MinD\\n\\n\\n\\n(...\n",
       "User - URL                                                            NaN\n",
       "User - Creation time                                  2018-02-07 01:23:47\n",
       "User - Language                                                       NaN\n",
       "User - Location                                            Maricá, Brasil\n",
       "User - Time Zone                                                      NaN\n",
       "User - Statuses                                                     21381\n",
       "User - Followers                                                      239\n",
       "User - Friends                                                        317\n",
       "User - Favourites                                                   40400\n",
       "Name: 12543, dtype: object"
      ]
     },
     "execution_count": 9,
     "metadata": {},
     "output_type": "execute_result"
    }
   ],
   "source": [
    "base.iloc[base['Retweeted'].idxmax()]"
   ]
  },
  {
   "cell_type": "code",
   "execution_count": 10,
   "metadata": {},
   "outputs": [
    {
     "name": "stdout",
     "output_type": "stream",
     "text": [
      "Tweet mais favoritado: ESSA SEMANA VAI SER TUDOOO\n",
      "\n",
      "Amanhã tem #SnyderCut \n",
      "Sexta tem Falcão e o Soldado Invernal\n",
      "\n",
      "E OS FÃS VENCEM E VENCEM https://t.co/2xXH6gUMaK\r\n",
      "Conta tweet original: @NacaoMarvell\n"
     ]
    }
   ],
   "source": [
    "## Tweet mais favoritado\n",
    "usr=base['User'].iloc[base['Favorited'].idxmax()]\n",
    "tt=base['Tweet'].iloc[base['Favorited'].idxmax()]\n",
    "\n",
    "texto = 'Tweet mais favoritado: '+ tt + os.linesep + 'Conta tweet original: '+ '@' +usr \n",
    "print(texto)\n"
   ]
  },
  {
   "cell_type": "code",
   "execution_count": 11,
   "metadata": {},
   "outputs": [],
   "source": [
    "##base.iloc[base['Favorited'].idxmax()]"
   ]
  },
  {
   "cell_type": "code",
   "execution_count": 12,
   "metadata": {},
   "outputs": [
    {
     "name": "stdout",
     "output_type": "stream",
     "text": [
      "A conta com o maior número de Tweets: @g1\r\n",
      "Tweet: #G1 já viu e te conta o que esperar  da temporada que estreia nesta sexta-feira https://t.co/BJTUthNL3Y\n"
     ]
    }
   ],
   "source": [
    "## Printando a conta que possui o maior número de seguidores\n",
    "usr=base['User'].iloc[base['User - Followers'].idxmax()]\n",
    "tt=base['Tweet'].iloc[base['User - Followers'].idxmax()]\n",
    "\n",
    "texto = 'A conta com o maior número de Tweets: '+ '@'+usr + os.linesep + 'Tweet: '+ tt\n",
    "print(texto)\n"
   ]
  },
  {
   "cell_type": "markdown",
   "metadata": {},
   "source": [
    "## Análise de Sentimentos "
   ]
  },
  {
   "cell_type": "code",
   "execution_count": 13,
   "metadata": {},
   "outputs": [
    {
     "name": "stderr",
     "output_type": "stream",
     "text": [
      "[nltk_data] Downloading package stopwords to\n",
      "[nltk_data]     C:\\Users\\natya\\AppData\\Roaming\\nltk_data...\n",
      "[nltk_data]   Package stopwords is already up-to-date!\n"
     ]
    },
    {
     "data": {
      "text/plain": [
       "True"
      ]
     },
     "execution_count": 13,
     "metadata": {},
     "output_type": "execute_result"
    }
   ],
   "source": [
    "import nltk\n",
    "from nltk.corpus import stopwords\n",
    "nltk.download('stopwords')\n"
   ]
  },
  {
   "cell_type": "code",
   "execution_count": 14,
   "metadata": {},
   "outputs": [],
   "source": [
    "## Removento as Stopwords\n",
    "additional  = ['rt','rts','retweet', 'RT','RTS']\n",
    "swords = set().union(stopwords.words('portuguese'),additional)"
   ]
  },
  {
   "cell_type": "code",
   "execution_count": 15,
   "metadata": {},
   "outputs": [
    {
     "data": {
      "text/plain": [
       "{'RT',\n",
       " 'RTS',\n",
       " 'a',\n",
       " 'ao',\n",
       " 'aos',\n",
       " 'aquela',\n",
       " 'aquelas',\n",
       " 'aquele',\n",
       " 'aqueles',\n",
       " 'aquilo',\n",
       " 'as',\n",
       " 'até',\n",
       " 'com',\n",
       " 'como',\n",
       " 'da',\n",
       " 'das',\n",
       " 'de',\n",
       " 'dela',\n",
       " 'delas',\n",
       " 'dele',\n",
       " 'deles',\n",
       " 'depois',\n",
       " 'do',\n",
       " 'dos',\n",
       " 'e',\n",
       " 'ela',\n",
       " 'elas',\n",
       " 'ele',\n",
       " 'eles',\n",
       " 'em',\n",
       " 'entre',\n",
       " 'era',\n",
       " 'eram',\n",
       " 'essa',\n",
       " 'essas',\n",
       " 'esse',\n",
       " 'esses',\n",
       " 'esta',\n",
       " 'estamos',\n",
       " 'estas',\n",
       " 'estava',\n",
       " 'estavam',\n",
       " 'este',\n",
       " 'esteja',\n",
       " 'estejam',\n",
       " 'estejamos',\n",
       " 'estes',\n",
       " 'esteve',\n",
       " 'estive',\n",
       " 'estivemos',\n",
       " 'estiver',\n",
       " 'estivera',\n",
       " 'estiveram',\n",
       " 'estiverem',\n",
       " 'estivermos',\n",
       " 'estivesse',\n",
       " 'estivessem',\n",
       " 'estivéramos',\n",
       " 'estivéssemos',\n",
       " 'estou',\n",
       " 'está',\n",
       " 'estávamos',\n",
       " 'estão',\n",
       " 'eu',\n",
       " 'foi',\n",
       " 'fomos',\n",
       " 'for',\n",
       " 'fora',\n",
       " 'foram',\n",
       " 'forem',\n",
       " 'formos',\n",
       " 'fosse',\n",
       " 'fossem',\n",
       " 'fui',\n",
       " 'fôramos',\n",
       " 'fôssemos',\n",
       " 'haja',\n",
       " 'hajam',\n",
       " 'hajamos',\n",
       " 'havemos',\n",
       " 'hei',\n",
       " 'houve',\n",
       " 'houvemos',\n",
       " 'houver',\n",
       " 'houvera',\n",
       " 'houveram',\n",
       " 'houverei',\n",
       " 'houverem',\n",
       " 'houveremos',\n",
       " 'houveria',\n",
       " 'houveriam',\n",
       " 'houvermos',\n",
       " 'houverá',\n",
       " 'houverão',\n",
       " 'houveríamos',\n",
       " 'houvesse',\n",
       " 'houvessem',\n",
       " 'houvéramos',\n",
       " 'houvéssemos',\n",
       " 'há',\n",
       " 'hão',\n",
       " 'isso',\n",
       " 'isto',\n",
       " 'já',\n",
       " 'lhe',\n",
       " 'lhes',\n",
       " 'mais',\n",
       " 'mas',\n",
       " 'me',\n",
       " 'mesmo',\n",
       " 'meu',\n",
       " 'meus',\n",
       " 'minha',\n",
       " 'minhas',\n",
       " 'muito',\n",
       " 'na',\n",
       " 'nas',\n",
       " 'nem',\n",
       " 'no',\n",
       " 'nos',\n",
       " 'nossa',\n",
       " 'nossas',\n",
       " 'nosso',\n",
       " 'nossos',\n",
       " 'num',\n",
       " 'numa',\n",
       " 'não',\n",
       " 'nós',\n",
       " 'o',\n",
       " 'os',\n",
       " 'ou',\n",
       " 'para',\n",
       " 'pela',\n",
       " 'pelas',\n",
       " 'pelo',\n",
       " 'pelos',\n",
       " 'por',\n",
       " 'qual',\n",
       " 'quando',\n",
       " 'que',\n",
       " 'quem',\n",
       " 'retweet',\n",
       " 'rt',\n",
       " 'rts',\n",
       " 'se',\n",
       " 'seja',\n",
       " 'sejam',\n",
       " 'sejamos',\n",
       " 'sem',\n",
       " 'serei',\n",
       " 'seremos',\n",
       " 'seria',\n",
       " 'seriam',\n",
       " 'será',\n",
       " 'serão',\n",
       " 'seríamos',\n",
       " 'seu',\n",
       " 'seus',\n",
       " 'somos',\n",
       " 'sou',\n",
       " 'sua',\n",
       " 'suas',\n",
       " 'são',\n",
       " 'só',\n",
       " 'também',\n",
       " 'te',\n",
       " 'tem',\n",
       " 'temos',\n",
       " 'tenha',\n",
       " 'tenham',\n",
       " 'tenhamos',\n",
       " 'tenho',\n",
       " 'terei',\n",
       " 'teremos',\n",
       " 'teria',\n",
       " 'teriam',\n",
       " 'terá',\n",
       " 'terão',\n",
       " 'teríamos',\n",
       " 'teu',\n",
       " 'teus',\n",
       " 'teve',\n",
       " 'tinha',\n",
       " 'tinham',\n",
       " 'tive',\n",
       " 'tivemos',\n",
       " 'tiver',\n",
       " 'tivera',\n",
       " 'tiveram',\n",
       " 'tiverem',\n",
       " 'tivermos',\n",
       " 'tivesse',\n",
       " 'tivessem',\n",
       " 'tivéramos',\n",
       " 'tivéssemos',\n",
       " 'tu',\n",
       " 'tua',\n",
       " 'tuas',\n",
       " 'tém',\n",
       " 'tínhamos',\n",
       " 'um',\n",
       " 'uma',\n",
       " 'você',\n",
       " 'vocês',\n",
       " 'vos',\n",
       " 'à',\n",
       " 'às',\n",
       " 'é',\n",
       " 'éramos'}"
      ]
     },
     "execution_count": 15,
     "metadata": {},
     "output_type": "execute_result"
    }
   ],
   "source": [
    "swords"
   ]
  },
  {
   "cell_type": "code",
   "execution_count": 16,
   "metadata": {},
   "outputs": [],
   "source": [
    "## Remover caracteres, links...\n",
    "base['processed_text'] = base['Tweet'].str.lower()\\\n",
    "          .str.replace('(@[a-z0-9]+)\\w+',' ')\\\n",
    "          .str.replace('(http\\S+)', ' ')\\\n",
    "          .str.replace(':', ' ')\\\n",
    "          .str.replace('.', ' ')\\\n",
    "          .str.replace(' +',' ')\\\n",
    "          .apply(lambda x: [i for i in x.split() if not i in swords])\n"
   ]
  },
  {
   "cell_type": "code",
   "execution_count": 17,
   "metadata": {},
   "outputs": [
    {
     "data": {
      "text/plain": [
       "0        ['falcão, soldado, invernal', primeiro, episód...\n",
       "1        [bom, dia, pois, hoje, falcão, soldado, invernal]\n",
       "2        [toda, sexta, agora, inferno, hsuahajajs, amo,...\n",
       "3        [hoje, dia, entro, aqui, tt, medo, ver, spoile...\n",
       "4        [wallpapers, falcão, soldado, invernal, #falcã...\n",
       "                               ...                        \n",
       "19495    [novo, trailer, oficial, falcão, soldado, inve...\n",
       "19496    [novo, trailer, oficial, falcão, soldado, inve...\n",
       "19497    [novo, trailer, oficial, falcão, soldado, inve...\n",
       "19498    [semana, semana, fãs, super-heróis, quinta-fei...\n",
       "19499    [novo, trailer, oficial, falcão, soldado, inve...\n",
       "Name: processed_text, Length: 19500, dtype: object"
      ]
     },
     "execution_count": 17,
     "metadata": {},
     "output_type": "execute_result"
    }
   ],
   "source": [
    "## Texto pré processado\n",
    "base['processed_text']\n"
   ]
  },
  {
   "cell_type": "code",
   "execution_count": 18,
   "metadata": {},
   "outputs": [
    {
     "data": {
      "text/plain": [
       "0        RT @cinepop: 'Falcão e o Soldado Invernal': Pr...\n",
       "1        BOM DIA POIS HOJE TEM FALCÃO E O SOLDADO INVERNAL\n",
       "2        Toda sexta agora esse inferno hsuahajajs eu am...\n",
       "3        Hoje é o dia que eu nem entro aqui no tt com m...\n",
       "4        RT @disneygobr: Wallpapers de Falcão e o Solda...\n",
       "                               ...                        \n",
       "19495    RT @SeriesTWBZ: Novo trailer oficial de Falcão...\n",
       "19496    RT @SeriesTWBZ: Novo trailer oficial de Falcão...\n",
       "19497    RT @SeriesTWBZ: Novo trailer oficial de Falcão...\n",
       "19498    Essa semana é A Semana para fãs de super-herói...\n",
       "19499    RT @SeriesTWBZ: Novo trailer oficial de Falcão...\n",
       "Name: Tweet, Length: 19500, dtype: object"
      ]
     },
     "execution_count": 18,
     "metadata": {},
     "output_type": "execute_result"
    }
   ],
   "source": [
    "base['Tweet']"
   ]
  },
  {
   "cell_type": "code",
   "execution_count": 19,
   "metadata": {},
   "outputs": [
    {
     "name": "stderr",
     "output_type": "stream",
     "text": [
      "[nltk_data] Downloading package punkt to\n",
      "[nltk_data]     C:\\Users\\natya\\AppData\\Roaming\\nltk_data...\n",
      "[nltk_data]   Package punkt is already up-to-date!\n",
      "[nltk_data] Downloading package vader_lexicon to\n",
      "[nltk_data]     C:\\Users\\natya\\AppData\\Roaming\\nltk_data...\n",
      "[nltk_data]   Package vader_lexicon is already up-to-date!\n"
     ]
    }
   ],
   "source": [
    "import nltk.sentiment.vader as vd\n",
    "from nltk import download\n",
    "nltk.download('punkt')\n",
    "download('vader_lexicon')\n",
    "sia = vd.SentimentIntensityAnalyzer()"
   ]
  },
  {
   "cell_type": "code",
   "execution_count": 20,
   "metadata": {},
   "outputs": [],
   "source": [
    "## Calculadno o Score do sentimento\n",
    "from nltk.tokenize import word_tokenize\n",
    "base['sentiment_score'] = base['processed_text'].apply(lambda x: sum([ sia.polarity_scores(i)['compound'] for i in word_tokenize( ' '.join(x) )]) )"
   ]
  },
  {
   "cell_type": "code",
   "execution_count": 21,
   "metadata": {},
   "outputs": [
    {
     "data": {
      "text/html": [
       "<div>\n",
       "<style scoped>\n",
       "    .dataframe tbody tr th:only-of-type {\n",
       "        vertical-align: middle;\n",
       "    }\n",
       "\n",
       "    .dataframe tbody tr th {\n",
       "        vertical-align: top;\n",
       "    }\n",
       "\n",
       "    .dataframe thead th {\n",
       "        text-align: right;\n",
       "    }\n",
       "</style>\n",
       "<table border=\"1\" class=\"dataframe\">\n",
       "  <thead>\n",
       "    <tr style=\"text-align: right;\">\n",
       "      <th></th>\n",
       "      <th>sentiment_score</th>\n",
       "      <th>processed_text</th>\n",
       "    </tr>\n",
       "  </thead>\n",
       "  <tbody>\n",
       "    <tr>\n",
       "      <th>0</th>\n",
       "      <td>0.0000</td>\n",
       "      <td>['falcão, soldado, invernal', primeiro, episód...</td>\n",
       "    </tr>\n",
       "    <tr>\n",
       "      <th>1</th>\n",
       "      <td>0.0000</td>\n",
       "      <td>[bom, dia, pois, hoje, falcão, soldado, invernal]</td>\n",
       "    </tr>\n",
       "    <tr>\n",
       "      <th>2</th>\n",
       "      <td>0.0000</td>\n",
       "      <td>[toda, sexta, agora, inferno, hsuahajajs, amo,...</td>\n",
       "    </tr>\n",
       "    <tr>\n",
       "      <th>3</th>\n",
       "      <td>0.0000</td>\n",
       "      <td>[hoje, dia, entro, aqui, tt, medo, ver, spoile...</td>\n",
       "    </tr>\n",
       "    <tr>\n",
       "      <th>4</th>\n",
       "      <td>0.0000</td>\n",
       "      <td>[wallpapers, falcão, soldado, invernal, #falcã...</td>\n",
       "    </tr>\n",
       "    <tr>\n",
       "      <th>5</th>\n",
       "      <td>0.0000</td>\n",
       "      <td>[gostei, bastante, 1ep, falcão, soldado, inver...</td>\n",
       "    </tr>\n",
       "    <tr>\n",
       "      <th>6</th>\n",
       "      <td>0.8430</td>\n",
       "      <td>[nao, importa, tempo, passe,, nunca, vou, esqu...</td>\n",
       "    </tr>\n",
       "    <tr>\n",
       "      <th>7</th>\n",
       "      <td>0.7397</td>\n",
       "      <td>[honre, legado, escudo, #falcãoeosoldadoinvern...</td>\n",
       "    </tr>\n",
       "    <tr>\n",
       "      <th>8</th>\n",
       "      <td>0.0000</td>\n",
       "      <td>[reativei, pra, surtar, falcão, soldado, inver...</td>\n",
       "    </tr>\n",
       "    <tr>\n",
       "      <th>9</th>\n",
       "      <td>0.0000</td>\n",
       "      <td>[falcão, soldado, invernal, vão, salvar, sexta...</td>\n",
       "    </tr>\n",
       "  </tbody>\n",
       "</table>\n",
       "</div>"
      ],
      "text/plain": [
       "   sentiment_score                                     processed_text\n",
       "0           0.0000  ['falcão, soldado, invernal', primeiro, episód...\n",
       "1           0.0000  [bom, dia, pois, hoje, falcão, soldado, invernal]\n",
       "2           0.0000  [toda, sexta, agora, inferno, hsuahajajs, amo,...\n",
       "3           0.0000  [hoje, dia, entro, aqui, tt, medo, ver, spoile...\n",
       "4           0.0000  [wallpapers, falcão, soldado, invernal, #falcã...\n",
       "5           0.0000  [gostei, bastante, 1ep, falcão, soldado, inver...\n",
       "6           0.8430  [nao, importa, tempo, passe,, nunca, vou, esqu...\n",
       "7           0.7397  [honre, legado, escudo, #falcãoeosoldadoinvern...\n",
       "8           0.0000  [reativei, pra, surtar, falcão, soldado, inver...\n",
       "9           0.0000  [falcão, soldado, invernal, vão, salvar, sexta..."
      ]
     },
     "execution_count": 21,
     "metadata": {},
     "output_type": "execute_result"
    }
   ],
   "source": [
    "base[['sentiment_score','processed_text']].head(n=10 )"
   ]
  },
  {
   "cell_type": "code",
   "execution_count": 22,
   "metadata": {},
   "outputs": [],
   "source": [
    "## Realizando a classificação do sentimento em categorias\n",
    "sent_clasification = pd.cut(base['sentiment_score'],\\\n",
    "          [-3,-1.2, 0, 1.2 , 3],\\\n",
    "          right=True,\\\n",
    "          include_lowest=True,\\\n",
    "          labels=['strongly negative', 'negative', 'positive', 'strongly positive'])"
   ]
  },
  {
   "cell_type": "code",
   "execution_count": 23,
   "metadata": {},
   "outputs": [
    {
     "data": {
      "text/plain": [
       "negative             15590\n",
       "positive              3907\n",
       "strongly positive        3\n",
       "strongly negative        0\n",
       "Name: sentiment_score, dtype: int64"
      ]
     },
     "execution_count": 23,
     "metadata": {},
     "output_type": "execute_result"
    }
   ],
   "source": [
    "sent_clasification.value_counts()"
   ]
  },
  {
   "cell_type": "code",
   "execution_count": 24,
   "metadata": {},
   "outputs": [
    {
     "data": {
      "image/png": "[encoded data removed]",
      "text/plain": [
       "<Figure size 432x288 with 1 Axes>"
      ]
     },
     "metadata": {
      "needs_background": "light"
     },
     "output_type": "display_data"
    }
   ],
   "source": [
    "## Plot Usuarios Twitter\n",
    "plt.grid(False)\n",
    "plt.tight_layout()\n",
    "plt.suptitle('Top 10 Usuários', fontsize=14)\n",
    "base['Tweet'].str\\\n",
    "          .findall('(@[A-Za-z0-9]+)')\\\n",
    "          .apply(lambda x: pd.value_counts(x))\\\n",
    "          .sum(axis=0)\\\n",
    "          .sort_values(ascending=False)[:10]\\\n",
    "          .plot(kind='bar')\n",
    "plt.show()"
   ]
  },
  {
   "cell_type": "code",
   "execution_count": 25,
   "metadata": {},
   "outputs": [],
   "source": [
    "## Ocorrencia palavras mais ditas\n",
    "words = base['processed_text'].dropna()\\\n",
    "                            .apply(lambda y: pd.value_counts(re.findall('([\\s]\\w+[\\s])',' '.join(y))))\\\n",
    "                            .sum(axis=0)\\\n",
    "                            .to_frame()\\\n",
    "                            .reset_index()\\\n",
    "                            .sort_values(by=0,ascending=False)\n",
    "words.columns = ['word','occurences']"
   ]
  },
  {
   "cell_type": "code",
   "execution_count": 26,
   "metadata": {},
   "outputs": [
    {
     "data": {
      "text/html": [
       "<div>\n",
       "<style scoped>\n",
       "    .dataframe tbody tr th:only-of-type {\n",
       "        vertical-align: middle;\n",
       "    }\n",
       "\n",
       "    .dataframe tbody tr th {\n",
       "        vertical-align: top;\n",
       "    }\n",
       "\n",
       "    .dataframe thead th {\n",
       "        text-align: right;\n",
       "    }\n",
       "</style>\n",
       "<table border=\"1\" class=\"dataframe\">\n",
       "  <thead>\n",
       "    <tr style=\"text-align: right;\">\n",
       "      <th></th>\n",
       "      <th>word</th>\n",
       "      <th>occurences</th>\n",
       "    </tr>\n",
       "  </thead>\n",
       "  <tbody>\n",
       "    <tr>\n",
       "      <th>3882</th>\n",
       "      <td>soldado</td>\n",
       "      <td>5915.0</td>\n",
       "    </tr>\n",
       "    <tr>\n",
       "      <th>1741</th>\n",
       "      <td>falcão</td>\n",
       "      <td>5238.0</td>\n",
       "    </tr>\n",
       "    <tr>\n",
       "      <th>2268</th>\n",
       "      <td>invernal</td>\n",
       "      <td>2932.0</td>\n",
       "    </tr>\n",
       "    <tr>\n",
       "      <th>2631</th>\n",
       "      <td>marvel</td>\n",
       "      <td>2359.0</td>\n",
       "    </tr>\n",
       "    <tr>\n",
       "      <th>1660</th>\n",
       "      <td>estreia</td>\n",
       "      <td>1928.0</td>\n",
       "    </tr>\n",
       "  </tbody>\n",
       "</table>\n",
       "</div>"
      ],
      "text/plain": [
       "            word  occurences\n",
       "3882    soldado       5915.0\n",
       "1741     falcão       5238.0\n",
       "2268   invernal       2932.0\n",
       "2631     marvel       2359.0\n",
       "1660    estreia       1928.0"
      ]
     },
     "execution_count": 26,
     "metadata": {},
     "output_type": "execute_result"
    }
   ],
   "source": [
    "## Observas as palavras relacionadas aos personagens título da série\n",
    "## Também há palava snydercut relacionada ao filme da DC que estreou no dia anterior à série do \"Falcao e o Soldado Invernal\"\n",
    "words.head()"
   ]
  },
  {
   "cell_type": "code",
   "execution_count": 27,
   "metadata": {},
   "outputs": [],
   "source": [
    "## Bigramas - Análises de palavras ditas em conjunto\n",
    "from nltk import bigrams\n",
    "bigramseries = pd.Series([word for sublist in base['processed_text'].dropna()\\\n",
    "                    .apply(lambda x: [i for i in bigrams(x)])\\\n",
    "                    .tolist() for word in sublist])\\\n",
    "                    .value_counts()"
   ]
  },
  {
   "cell_type": "code",
   "execution_count": 28,
   "metadata": {},
   "outputs": [
    {
     "data": {
      "text/plain": [
       "(falcão, soldado)                                            9425\n",
       "(soldado, invernal)                                          9172\n",
       "(marvel, studios)                                            1534\n",
       "(19, março)                                                  1410\n",
       "(sam, wilson)                                                1103\n",
       "(#snydercut, sexta)                                          1082\n",
       "(steve, rogers)                                               980\n",
       "(#falcãoeosoldadoinvernal,, marvel)                           909\n",
       "(capitão, américa)                                            881\n",
       "(sexta, falcão)                                               881\n",
       "(série, original)                                             873\n",
       "(original, marvel)                                            873\n",
       "(honre, legado)                                               816\n",
       "(legado, escudo)                                              816\n",
       "(vai, ser)                                                    810\n",
       "(invernal, estreia)                                           785\n",
       "(#falcãoeosoldadoinvernal, #thefalconandthewintersoldier)     783\n",
       "(trailer, final)                                              774\n",
       "(estreia, exclusiva)                                          766\n",
       "(exclusiva, 19)                                               753\n",
       "(divulgação, falcão)                                          729\n",
       "(studios, estreia)                                            724\n",
       "(sexta, pra)                                                  707\n",
       "(quinta, falcão)                                              704\n",
       "(#thefalconandthewintersoldier, falcão)                       704\n",
       "(semana, snydercut)                                           701\n",
       "(invernal, estreando)                                         700\n",
       "(pra, ninguém)                                                699\n",
       "(estreando, quinta)                                           698\n",
       "(estreando, sexta)                                            698\n",
       "(ninguém, botar)                                              698\n",
       "(botar, defeito)                                              697\n",
       "(toda, sexta)                                                 697\n",
       "(#snydercut, #thefalconandthewintersoldier)                   697\n",
       "(defeito, #snydercut)                                         696\n",
       "(snydercut, estreando)                                        696\n",
       "(novos, episódios)                                            674\n",
       "(episódios, toda)                                             673\n",
       "(#falcãoeosoldadoinvernal,, série)                            672\n",
       "(sexta, #disneyplus)                                          672\n",
       "(studios, novos)                                              671\n",
       "(escudo, capitão)                                             671\n",
       "(escudo, #falcãoeosoldadoinvernal,)                           671\n",
       "(semana, vai)                                                 645\n",
       "(amanhã, #snydercut)                                          631\n",
       "(invernal, fãs)                                               629\n",
       "(tudooo, amanhã)                                              627\n",
       "(fãs, vencem)                                                 627\n",
       "(ser, tudooo)                                                 627\n",
       "(vencem, vencem)                                              627\n",
       "dtype: int64"
      ]
     },
     "execution_count": 28,
     "metadata": {},
     "output_type": "execute_result"
    }
   ],
   "source": [
    "bigramseries.head(50)"
   ]
  }
 ],
 "metadata": {
  "kernelspec": {
   "display_name": "Python 3",
   "language": "python",
   "name": "python3"
  },
  "language_info": {
   "codemirror_mode": {
    "name": "ipython",
    "version": 3
   },
   "file_extension": ".py",
   "mimetype": "text/x-python",
   "name": "python",
   "nbconvert_exporter": "python",
   "pygments_lexer": "ipython3",
   "version": "3.8.8"
  }
 },
 "nbformat": 4,
 "nbformat_minor": 4
}
